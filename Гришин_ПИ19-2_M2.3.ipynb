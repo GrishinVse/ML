{
 "cells": [
  {
   "cell_type": "markdown",
   "id": "67711766",
   "metadata": {},
   "source": [
    "# Классификация текстов"
   ]
  },
  {
   "cell_type": "markdown",
   "id": "72625887",
   "metadata": {},
   "source": [
    " - https://github.com/koroteevmv/ML_course/tree/main/ML2.3_text\n",
    " - https://scikit-learn.org/stable/modules/generated/sklearn.naive_bayes.MultinomialNB.html\n",
    " - https://scikit-learn.org/0.19/datasets/twenty_newsgroups.html"
   ]
  },
  {
   "cell_type": "markdown",
   "id": "5b183489",
   "metadata": {},
   "source": [
    "1. Загрузите датасет 20 newsgroups;"
   ]
  },
  {
   "cell_type": "code",
   "execution_count": 1,
   "id": "06b136e0",
   "metadata": {},
   "outputs": [],
   "source": [
    "from sklearn.datasets import fetch_20newsgroups\n",
    "news = fetch_20newsgroups(subset='all')"
   ]
  },
  {
   "cell_type": "markdown",
   "id": "f3415e8f",
   "metadata": {},
   "source": [
    "2. Познакомьтесь с описанием и структурой датасета. Описание можно найти в документации."
   ]
  },
  {
   "cell_type": "code",
   "execution_count": 5,
   "id": "3ef1a30e",
   "metadata": {},
   "outputs": [
    {
     "data": {
      "text/plain": [
       "dict_keys(['data', 'filenames', 'target_names', 'target', 'DESCR'])"
      ]
     },
     "execution_count": 5,
     "metadata": {},
     "output_type": "execute_result"
    }
   ],
   "source": [
    "news.keys()"
   ]
  },
  {
   "cell_type": "code",
   "execution_count": 9,
   "id": "6b0581b1",
   "metadata": {},
   "outputs": [
    {
     "name": "stdout",
     "output_type": "stream",
     "text": [
      ".. _20newsgroups_dataset:\n",
      "\n",
      "The 20 newsgroups text dataset\n",
      "------------------------------\n",
      "\n",
      "The 20 newsgroups dataset comprises around 18000 newsgroups posts on\n",
      "20 topics split in two subsets: one for training (or development)\n",
      "and the other one for testing (or for performance evaluation). The split\n",
      "between the train and test set is based upon a messages posted before\n",
      "and after a specific date.\n",
      "\n",
      "This module contains two loaders. The first one,\n",
      ":func:`sklearn.datasets.fetch_20newsgroups`,\n",
      "returns a list of the raw texts that can be fed to text feature\n",
      "extractors such as :class:`~sklearn.feature_extraction.text.CountVectorizer`\n",
      "with custom parameters so as to extract feature vectors.\n",
      "The second one, :func:`sklearn.datasets.fetch_20newsgroups_vectorized`,\n",
      "returns ready-to-use features, i.e., it is not necessary to use a feature\n",
      "extractor.\n",
      "\n",
      "**Data Set Characteristics:**\n",
      "\n",
      "    =================   ==========\n",
      "    Classes                     20\n",
      "    Samples total            18846\n",
      "    Dimensionality               1\n",
      "    Features                  text\n",
      "    =================   ==========\n",
      "\n",
      "Usage\n",
      "~~~~~\n",
      "\n",
      "The :func:`sklearn.datasets.fetch_20newsgroups` function is a data\n",
      "fetching / caching functions that downloads the data archive from\n",
      "the original `20 newsgroups website`_, extracts the archive contents\n",
      "in the ``~/scikit_learn_data/20news_home`` folder and calls the\n",
      ":func:`sklearn.datasets.load_files` on either the training or\n",
      "testing set folder, or both of them::\n",
      "\n",
      "  >>> from sklearn.datasets import fetch_20newsgroups\n",
      "  >>> newsgroups_train = fetch_20newsgroups(subset='train')\n",
      "\n",
      "  >>> from pprint import pprint\n",
      "  >>> pprint(list(newsgroups_train.target_names))\n",
      "  ['alt.atheism',\n",
      "   'comp.graphics',\n",
      "   'comp.os.ms-windows.misc',\n",
      "   'comp.sys.ibm.pc.hardware',\n",
      "   'comp.sys.mac.hardware',\n",
      "   'comp.windows.x',\n",
      "   'misc.forsale',\n",
      "   'rec.autos',\n",
      "   'rec.motorcycles',\n",
      "   'rec.sport.baseball',\n",
      "   'rec.sport.hockey',\n",
      "   'sci.crypt',\n",
      "   'sci.electronics',\n",
      "   'sci.med',\n",
      "   'sci.space',\n",
      "   'soc.religion.christian',\n",
      "   'talk.politics.guns',\n",
      "   'talk.politics.mideast',\n",
      "   'talk.politics.misc',\n",
      "   'talk.religion.misc']\n",
      "\n",
      "The real data lies in the ``filenames`` and ``target`` attributes. The target\n",
      "attribute is the integer index of the category::\n",
      "\n",
      "  >>> newsgroups_train.filenames.shape\n",
      "  (11314,)\n",
      "  >>> newsgroups_train.target.shape\n",
      "  (11314,)\n",
      "  >>> newsgroups_train.target[:10]\n",
      "  array([ 7,  4,  4,  1, 14, 16, 13,  3,  2,  4])\n",
      "\n",
      "It is possible to load only a sub-selection of the categories by passing the\n",
      "list of the categories to load to the\n",
      ":func:`sklearn.datasets.fetch_20newsgroups` function::\n",
      "\n",
      "  >>> cats = ['alt.atheism', 'sci.space']\n",
      "  >>> newsgroups_train = fetch_20newsgroups(subset='train', categories=cats)\n",
      "\n",
      "  >>> list(newsgroups_train.target_names)\n",
      "  ['alt.atheism', 'sci.space']\n",
      "  >>> newsgroups_train.filenames.shape\n",
      "  (1073,)\n",
      "  >>> newsgroups_train.target.shape\n",
      "  (1073,)\n",
      "  >>> newsgroups_train.target[:10]\n",
      "  array([0, 1, 1, 1, 0, 1, 1, 0, 0, 0])\n",
      "\n",
      "Converting text to vectors\n",
      "~~~~~~~~~~~~~~~~~~~~~~~~~~\n",
      "\n",
      "In order to feed predictive or clustering models with the text data,\n",
      "one first need to turn the text into vectors of numerical values suitable\n",
      "for statistical analysis. This can be achieved with the utilities of the\n",
      "``sklearn.feature_extraction.text`` as demonstrated in the following\n",
      "example that extract `TF-IDF`_ vectors of unigram tokens\n",
      "from a subset of 20news::\n",
      "\n",
      "  >>> from sklearn.feature_extraction.text import TfidfVectorizer\n",
      "  >>> categories = ['alt.atheism', 'talk.religion.misc',\n",
      "  ...               'comp.graphics', 'sci.space']\n",
      "  >>> newsgroups_train = fetch_20newsgroups(subset='train',\n",
      "  ...                                       categories=categories)\n",
      "  >>> vectorizer = TfidfVectorizer()\n",
      "  >>> vectors = vectorizer.fit_transform(newsgroups_train.data)\n",
      "  >>> vectors.shape\n",
      "  (2034, 34118)\n",
      "\n",
      "The extracted TF-IDF vectors are very sparse, with an average of 159 non-zero\n",
      "components by sample in a more than 30000-dimensional space\n",
      "(less than .5% non-zero features)::\n",
      "\n",
      "  >>> vectors.nnz / float(vectors.shape[0])\n",
      "  159.01327...\n",
      "\n",
      ":func:`sklearn.datasets.fetch_20newsgroups_vectorized` is a function which\n",
      "returns ready-to-use token counts features instead of file names.\n",
      "\n",
      ".. _`20 newsgroups website`: http://people.csail.mit.edu/jrennie/20Newsgroups/\n",
      ".. _`TF-IDF`: https://en.wikipedia.org/wiki/Tf-idf\n",
      "\n",
      "\n",
      "Filtering text for more realistic training\n",
      "~~~~~~~~~~~~~~~~~~~~~~~~~~~~~~~~~~~~~~~~~~\n",
      "\n",
      "It is easy for a classifier to overfit on particular things that appear in the\n",
      "20 Newsgroups data, such as newsgroup headers. Many classifiers achieve very\n",
      "high F-scores, but their results would not generalize to other documents that\n",
      "aren't from this window of time.\n",
      "\n",
      "For example, let's look at the results of a multinomial Naive Bayes classifier,\n",
      "which is fast to train and achieves a decent F-score::\n",
      "\n",
      "  >>> from sklearn.naive_bayes import MultinomialNB\n",
      "  >>> from sklearn import metrics\n",
      "  >>> newsgroups_test = fetch_20newsgroups(subset='test',\n",
      "  ...                                      categories=categories)\n",
      "  >>> vectors_test = vectorizer.transform(newsgroups_test.data)\n",
      "  >>> clf = MultinomialNB(alpha=.01)\n",
      "  >>> clf.fit(vectors, newsgroups_train.target)\n",
      "  MultinomialNB(alpha=0.01, class_prior=None, fit_prior=True)\n",
      "\n",
      "  >>> pred = clf.predict(vectors_test)\n",
      "  >>> metrics.f1_score(newsgroups_test.target, pred, average='macro')\n",
      "  0.88213...\n",
      "\n",
      "(The example :ref:`sphx_glr_auto_examples_text_plot_document_classification_20newsgroups.py` shuffles\n",
      "the training and test data, instead of segmenting by time, and in that case\n",
      "multinomial Naive Bayes gets a much higher F-score of 0.88. Are you suspicious\n",
      "yet of what's going on inside this classifier?)\n",
      "\n",
      "Let's take a look at what the most informative features are:\n",
      "\n",
      "  >>> import numpy as np\n",
      "  >>> def show_top10(classifier, vectorizer, categories):\n",
      "  ...     feature_names = vectorizer.get_feature_names_out()\n",
      "  ...     for i, category in enumerate(categories):\n",
      "  ...         top10 = np.argsort(classifier.coef_[i])[-10:]\n",
      "  ...         print(\"%s: %s\" % (category, \" \".join(feature_names[top10])))\n",
      "  ...\n",
      "  >>> show_top10(clf, vectorizer, newsgroups_train.target_names)\n",
      "  alt.atheism: edu it and in you that is of to the\n",
      "  comp.graphics: edu in graphics it is for and of to the\n",
      "  sci.space: edu it that is in and space to of the\n",
      "  talk.religion.misc: not it you in is that and to of the\n",
      "\n",
      "\n",
      "You can now see many things that these features have overfit to:\n",
      "\n",
      "- Almost every group is distinguished by whether headers such as\n",
      "  ``NNTP-Posting-Host:`` and ``Distribution:`` appear more or less often.\n",
      "- Another significant feature involves whether the sender is affiliated with\n",
      "  a university, as indicated either by their headers or their signature.\n",
      "- The word \"article\" is a significant feature, based on how often people quote\n",
      "  previous posts like this: \"In article [article ID], [name] <[e-mail address]>\n",
      "  wrote:\"\n",
      "- Other features match the names and e-mail addresses of particular people who\n",
      "  were posting at the time.\n",
      "\n",
      "With such an abundance of clues that distinguish newsgroups, the classifiers\n",
      "barely have to identify topics from text at all, and they all perform at the\n",
      "same high level.\n",
      "\n",
      "For this reason, the functions that load 20 Newsgroups data provide a\n",
      "parameter called **remove**, telling it what kinds of information to strip out\n",
      "of each file. **remove** should be a tuple containing any subset of\n",
      "``('headers', 'footers', 'quotes')``, telling it to remove headers, signature\n",
      "blocks, and quotation blocks respectively.\n",
      "\n",
      "  >>> newsgroups_test = fetch_20newsgroups(subset='test',\n",
      "  ...                                      remove=('headers', 'footers', 'quotes'),\n",
      "  ...                                      categories=categories)\n",
      "  >>> vectors_test = vectorizer.transform(newsgroups_test.data)\n",
      "  >>> pred = clf.predict(vectors_test)\n",
      "  >>> metrics.f1_score(pred, newsgroups_test.target, average='macro')\n",
      "  0.77310...\n",
      "\n",
      "This classifier lost over a lot of its F-score, just because we removed\n",
      "metadata that has little to do with topic classification.\n",
      "It loses even more if we also strip this metadata from the training data:\n",
      "\n",
      "  >>> newsgroups_train = fetch_20newsgroups(subset='train',\n",
      "  ...                                       remove=('headers', 'footers', 'quotes'),\n",
      "  ...                                       categories=categories)\n",
      "  >>> vectors = vectorizer.fit_transform(newsgroups_train.data)\n",
      "  >>> clf = MultinomialNB(alpha=.01)\n",
      "  >>> clf.fit(vectors, newsgroups_train.target)\n",
      "  MultinomialNB(alpha=0.01, class_prior=None, fit_prior=True)\n",
      "\n",
      "  >>> vectors_test = vectorizer.transform(newsgroups_test.data)\n",
      "  >>> pred = clf.predict(vectors_test)\n",
      "  >>> metrics.f1_score(newsgroups_test.target, pred, average='macro')\n",
      "  0.76995...\n",
      "\n",
      "Some other classifiers cope better with this harder version of the task. Try\n",
      "running :ref:`sphx_glr_auto_examples_model_selection_grid_search_text_feature_extraction.py` with and without\n",
      "the ``--filter`` option to compare the results.\n",
      "\n",
      ".. topic:: Data Considerations\n",
      "\n",
      "  The Cleveland Indians is a major league baseball team based in Cleveland,\n",
      "  Ohio, USA. In December 2020, it was reported that \"After several months of\n",
      "  discussion sparked by the death of George Floyd and a national reckoning over\n",
      "  race and colonialism, the Cleveland Indians have decided to change their\n",
      "  name.\" Team owner Paul Dolan \"did make it clear that the team will not make\n",
      "  its informal nickname -- the Tribe -- its new team name.\" \"It’s not going to\n",
      "  be a half-step away from the Indians,\" Dolan said.\"We will not have a Native\n",
      "  American-themed name.\"\n",
      "\n",
      "  https://www.mlb.com/news/cleveland-indians-team-name-change\n",
      "\n",
      ".. topic:: Recommendation\n",
      "\n",
      "  - When evaluating text classifiers on the 20 Newsgroups data, you\n",
      "    should strip newsgroup-related metadata. In scikit-learn, you can do this\n",
      "    by setting ``remove=('headers', 'footers', 'quotes')``. The F-score will be\n",
      "    lower because it is more realistic.\n",
      "  - This text dataset contains data which may be inappropriate for certain NLP\n",
      "    applications. An example is listed in the \"Data Considerations\" section\n",
      "    above. The challenge with using current text datasets in NLP for tasks such\n",
      "    as sentence completion, clustering, and other applications is that text\n",
      "    that is culturally biased and inflammatory will propagate biases. This\n",
      "    should be taken into consideration when using the dataset, reviewing the\n",
      "    output, and the bias should be documented.\n",
      "\n",
      ".. topic:: Examples\n",
      "\n",
      "   * :ref:`sphx_glr_auto_examples_model_selection_grid_search_text_feature_extraction.py`\n",
      "\n",
      "   * :ref:`sphx_glr_auto_examples_text_plot_document_classification_20newsgroups.py`\n",
      "\n"
     ]
    }
   ],
   "source": [
    "print(news['DESCR'])"
   ]
  },
  {
   "cell_type": "markdown",
   "id": "daeb7f06",
   "metadata": {},
   "source": [
    "3. Выведите информацию о количественных параметрах датасета;\n"
   ]
  },
  {
   "cell_type": "code",
   "execution_count": 10,
   "id": "7b295dce",
   "metadata": {},
   "outputs": [
    {
     "data": {
      "text/plain": [
       "18846"
      ]
     },
     "execution_count": 10,
     "metadata": {},
     "output_type": "execute_result"
    }
   ],
   "source": [
    "len(news.data)"
   ]
  },
  {
   "cell_type": "code",
   "execution_count": 11,
   "id": "ae9a90d0",
   "metadata": {},
   "outputs": [
    {
     "data": {
      "text/plain": [
       "18846"
      ]
     },
     "execution_count": 11,
     "metadata": {},
     "output_type": "execute_result"
    }
   ],
   "source": [
    "len(news.filenames)"
   ]
  },
  {
   "cell_type": "code",
   "execution_count": 13,
   "id": "5d06e5d2",
   "metadata": {},
   "outputs": [
    {
     "data": {
      "text/plain": [
       "18846"
      ]
     },
     "execution_count": 13,
     "metadata": {},
     "output_type": "execute_result"
    }
   ],
   "source": [
    "len(news.target)"
   ]
  },
  {
   "cell_type": "code",
   "execution_count": 12,
   "id": "ae3fbc26",
   "metadata": {},
   "outputs": [
    {
     "data": {
      "text/plain": [
       "['alt.atheism',\n",
       " 'comp.graphics',\n",
       " 'comp.os.ms-windows.misc',\n",
       " 'comp.sys.ibm.pc.hardware',\n",
       " 'comp.sys.mac.hardware',\n",
       " 'comp.windows.x',\n",
       " 'misc.forsale',\n",
       " 'rec.autos',\n",
       " 'rec.motorcycles',\n",
       " 'rec.sport.baseball',\n",
       " 'rec.sport.hockey',\n",
       " 'sci.crypt',\n",
       " 'sci.electronics',\n",
       " 'sci.med',\n",
       " 'sci.space',\n",
       " 'soc.religion.christian',\n",
       " 'talk.politics.guns',\n",
       " 'talk.politics.mideast',\n",
       " 'talk.politics.misc',\n",
       " 'talk.religion.misc']"
      ]
     },
     "execution_count": 12,
     "metadata": {},
     "output_type": "execute_result"
    }
   ],
   "source": [
    "news[\"target_names\"]"
   ]
  },
  {
   "cell_type": "markdown",
   "id": "9063c9fd",
   "metadata": {},
   "source": [
    "4. Выведите несколько точек датасета (сами текстовые фрагменты и значение целевой переменной);\n"
   ]
  },
  {
   "cell_type": "code",
   "execution_count": 21,
   "id": "2574c414",
   "metadata": {},
   "outputs": [
    {
     "name": "stdout",
     "output_type": "stream",
     "text": [
      "From: cdt@sw.stratus.com (C. D. Tavares)\n",
      "Subject: Re: Photographers removed from compound\n",
      "Organization: Stratus Computer, Inc.\n",
      "Lines: 41\n",
      "Distribution: na\n",
      "NNTP-Posting-Host: rocket.sw.stratus.com\n",
      "\n",
      "In article <C5wJFz.Bus@news.udel.edu>, roby@chopin.udel.edu (Scott W Roby) writes:\n",
      "> >> I find this disturbing. \n",
      "\n",
      "> >Good.  Keep thinking critically.\n",
      "\n",
      "> Dont' patronize me and I won't patronize you.\n",
      "\n",
      "Feel free to patronize me all you like; I need the tips. :-)\n",
      "Seriously, if you were insulted, I apologize.\n",
      "\n",
      "> The most tiresome thing about this group is that so many people \n",
      "> tell others they are sucking up to the government when ever they \n",
      "> decide that something the government says is plausible and praise \n",
      "> them as independent thinkers whenever they find something the government \n",
      "> says implausible.\n",
      "\n",
      "People are sucking up to the government when they decide that ONLY the\n",
      "things the government says are plausible.  Especially if they refuse to\n",
      "consider reasonable alternatives.\n",
      "\n",
      "However, from what I saw plastered all over the TV news last night, it's\n",
      "no longer necessary to be an \"independent thinker\" to depart from the\n",
      "government's party line.  It looks like our \"independent press\" may \n",
      "actually be starting to be earn its clothes allowance.  This, to me, is\n",
      "a good sign.  I hope it continues.\n",
      "\n",
      "> Here's a clue.  Independent thinkers are able to come to either conclusion \n",
      "> depending on the circumstances.  Non-critical thinkers are the ones who would \n",
      "> always come to the same type of conclusion regardless of the circumstances.\n",
      "\n",
      "Independent thinkers question authority.  In a situation where only one\n",
      "set of facts are being presented, \"coming to a conclusion\" is not the \n",
      "hallmark of an independent thinker unless it's coupled with the ability\n",
      "to challenge those \"facts\" critically.  The scientific method consists\n",
      "of more than choosing the popular hypothesis; it's even more than choosing\n",
      "between two hypotheses that other people have proposed.\n",
      "-- \n",
      "\n",
      "cdt@rocket.sw.stratus.com   --If you believe that I speak for my company,\n",
      "OR cdt@vos.stratus.com        write today for my special Investors' Packet...\n",
      "\n",
      " ------------------------------ [16]\n"
     ]
    }
   ],
   "source": [
    "import random\n",
    "\n",
    "selected_numbers = random.sample(range(0, len(news.data)), 1)\n",
    "\n",
    "selected_data = [ news.data[num] for num in selected_numbers ]\n",
    "selected_target = [ news.target[num] for num in selected_numbers ]\n",
    "\n",
    "print(selected_data[0], '-'*30 ,selected_target)"
   ]
  },
  {
   "cell_type": "markdown",
   "id": "96bb9cc7",
   "metadata": {},
   "source": [
    "5. Разделите эти данные на тестовую и обучающую выборки;"
   ]
  },
  {
   "cell_type": "code",
   "execution_count": 16,
   "id": "67dd1867",
   "metadata": {},
   "outputs": [],
   "source": [
    "from sklearn.datasets import fetch_20newsgroups\n",
    "from sklearn.feature_extraction.text import CountVectorizer\n",
    "\n",
    "vectorizer = CountVectorizer()\n",
    "\n",
    "news_train = fetch_20newsgroups(subset='train')\n",
    "vectors_train = vectorizer.fit_transform(news_train.data)\n",
    "\n",
    "news_test = fetch_20newsgroups(subset='test')\n",
    "vectors_test = vectorizer.transform(news_test.data)"
   ]
  },
  {
   "cell_type": "code",
   "execution_count": 17,
   "id": "4c85392f",
   "metadata": {},
   "outputs": [
    {
     "data": {
      "text/plain": [
       "(11314, 130107)"
      ]
     },
     "execution_count": 17,
     "metadata": {},
     "output_type": "execute_result"
    }
   ],
   "source": [
    "vectors_train.shape"
   ]
  },
  {
   "cell_type": "code",
   "execution_count": 18,
   "id": "7a79158d",
   "metadata": {},
   "outputs": [
    {
     "data": {
      "text/plain": [
       "(7532, 130107)"
      ]
     },
     "execution_count": 18,
     "metadata": {},
     "output_type": "execute_result"
    }
   ],
   "source": [
    "vectors_test.shape"
   ]
  },
  {
   "cell_type": "markdown",
   "id": "27c4edd7",
   "metadata": {},
   "source": [
    "6. Постройте модель наивного байесовского для классификации текстов;"
   ]
  },
  {
   "cell_type": "code",
   "execution_count": 41,
   "id": "992171f5",
   "metadata": {},
   "outputs": [],
   "source": [
    "from sklearn.naive_bayes import MultinomialNB\n",
    "from sklearn import metrics\n",
    "from sklearn.metrics import classification_report"
   ]
  },
  {
   "cell_type": "code",
   "execution_count": 42,
   "id": "53590b92",
   "metadata": {},
   "outputs": [
    {
     "name": "stdout",
     "output_type": "stream",
     "text": [
      "Wall time: 138 ms\n"
     ]
    },
    {
     "data": {
      "text/plain": [
       "MultinomialNB(alpha=0.3)"
      ]
     },
     "execution_count": 42,
     "metadata": {},
     "output_type": "execute_result"
    }
   ],
   "source": [
    "%%time\n",
    "clf = MultinomialNB(alpha=0.3)\n",
    "clf.fit(vectors_train, news_train.target)"
   ]
  },
  {
   "cell_type": "markdown",
   "id": "f298314b",
   "metadata": {},
   "source": [
    "7. Оцените качество модели на тестовой выборке с помощью следующих метрик:\n",
    "   - достоверность предсказания (accuracy);\n",
    "   - точность (precision);\n",
    "   - полнота (recall);"
   ]
  },
  {
   "cell_type": "code",
   "execution_count": 43,
   "id": "d7754223",
   "metadata": {},
   "outputs": [
    {
     "name": "stdout",
     "output_type": "stream",
     "text": [
      "                          precision    recall  f1-score   support\n",
      "\n",
      "             alt.atheism       0.79      0.82      0.81       319\n",
      "           comp.graphics       0.60      0.81      0.69       389\n",
      " comp.os.ms-windows.misc       0.33      0.01      0.01       394\n",
      "comp.sys.ibm.pc.hardware       0.54      0.78      0.64       392\n",
      "   comp.sys.mac.hardware       0.77      0.83      0.80       385\n",
      "          comp.windows.x       0.76      0.77      0.77       395\n",
      "            misc.forsale       0.87      0.78      0.82       390\n",
      "               rec.autos       0.86      0.93      0.89       396\n",
      "         rec.motorcycles       0.94      0.95      0.95       398\n",
      "      rec.sport.baseball       0.96      0.92      0.94       397\n",
      "        rec.sport.hockey       0.95      0.96      0.96       399\n",
      "               sci.crypt       0.86      0.94      0.90       396\n",
      "         sci.electronics       0.77      0.75      0.76       393\n",
      "                 sci.med       0.89      0.84      0.87       396\n",
      "               sci.space       0.86      0.91      0.88       394\n",
      "  soc.religion.christian       0.84      0.94      0.89       398\n",
      "      talk.politics.guns       0.76      0.91      0.83       364\n",
      "   talk.politics.mideast       0.96      0.90      0.93       376\n",
      "      talk.politics.misc       0.67      0.64      0.65       310\n",
      "      talk.religion.misc       0.75      0.54      0.63       251\n",
      "\n",
      "                accuracy                           0.80      7532\n",
      "               macro avg       0.79      0.80      0.78      7532\n",
      "            weighted avg       0.79      0.80      0.78      7532\n",
      "\n",
      "0.8027084439723845\n"
     ]
    }
   ],
   "source": [
    "pred = clf.predict(vectors_test)\n",
    "y_true = news_test.target\n",
    "print(classification_report(y_true, pred, target_names=news_train.target_names))\n",
    "print(clf.score(vectors_test, y_true))"
   ]
  },
  {
   "cell_type": "markdown",
   "id": "710896d4",
   "metadata": {},
   "source": [
    "8. Постройте кривую обучения - график зависимости тестовой и обучающей эффективности от размера обучающей выборки."
   ]
  },
  {
   "cell_type": "markdown",
   "id": "7400e4a7",
   "metadata": {},
   "source": [
    "https://scikit-learn.org/stable/auto_examples/model_selection/plot_learning_curve.html"
   ]
  },
  {
   "cell_type": "code",
   "execution_count": 44,
   "id": "806eebbd",
   "metadata": {},
   "outputs": [],
   "source": [
    "from sklearn.model_selection import learning_curve\n",
    "import matplotlib.pyplot as plt\n",
    "import numpy as np"
   ]
  },
  {
   "cell_type": "code",
   "execution_count": 45,
   "id": "8b674b79",
   "metadata": {},
   "outputs": [],
   "source": [
    "def print_learning_curve(model, x_train, y_train, train_sizes=np.linspace(0.1, 1.0, 10), title=\"Learning Curves MultinomialNB\"):\n",
    "    \"\"\"\n",
    "    Функция для вывода прямой обучения learning_curve\n",
    "    ---------------------------------------\n",
    "    > model - переменная модели из библиотеки sklearn\n",
    "    > x_train - матрица признаков\n",
    "    > y_train - матрица правильных ответов\n",
    "    > train_sizes - относительное или абсолютное количество обучающих примеров\n",
    "    > model_label - тип модели (отрисовывается на графике)\n",
    "    \"\"\"\n",
    "    from sklearn.model_selection import learning_curve\n",
    "    _, train_scores, test_scores, fit_times, _ = learning_curve(model, x_train, y_train, train_sizes=train_sizes, cv=5, \n",
    "                                                  n_jobs=-1, return_times=True)\n",
    "    \n",
    "    train_scores_mean = np.mean(train_scores, axis=1)\n",
    "    train_scores_std = np.std(train_scores, axis=1)\n",
    "    test_scores_mean = np.mean(test_scores, axis=1)\n",
    "    test_scores_std = np.std(test_scores, axis=1)\n",
    "    fit_times_mean = np.mean(fit_times, axis=1)\n",
    "    fit_times_std = np.std(fit_times, axis=1)\n",
    "    \n",
    "    _, axes = plt.subplots(1, figsize=(10, 5))\n",
    "    \n",
    "    axes.set_title(title)\n",
    "    axes.set_xlabel(\"Training examples\")\n",
    "    axes.set_ylabel(\"Score\")\n",
    "    \n",
    "    # Plot learning curve\n",
    "    axes.grid()\n",
    "    axes.fill_between(\n",
    "        train_sizes,\n",
    "        train_scores_mean - train_scores_std,\n",
    "        train_scores_mean + train_scores_std,\n",
    "        alpha=0.1,\n",
    "        color=\"r\",\n",
    "    )\n",
    "    axes.fill_between(\n",
    "        train_sizes,\n",
    "        test_scores_mean - test_scores_std,\n",
    "        test_scores_mean + test_scores_std,\n",
    "        alpha=0.1,\n",
    "        color=\"g\",\n",
    "    )\n",
    "    axes.plot(\n",
    "        train_sizes, train_scores_mean, \"o-\", color=\"r\", label=\"Training score\"\n",
    "    )\n",
    "    axes.plot(\n",
    "        train_sizes, test_scores_mean, \"o-\", color=\"g\", label=\"Cross-validation score\"\n",
    "    )\n",
    "    axes.legend(loc=\"best\")"
   ]
  },
  {
   "cell_type": "code",
   "execution_count": 46,
   "id": "c77b076b",
   "metadata": {},
   "outputs": [
    {
     "data": {
      "image/png": "[encoded data removed]",
      "text/plain": [
       "<Figure size 720x360 with 1 Axes>"
      ]
     },
     "metadata": {
      "needs_background": "light"
     },
     "output_type": "display_data"
    }
   ],
   "source": [
    "print_learning_curve(clf, vectors_train, news_train.target)"
   ]
  },
  {
   "cell_type": "markdown",
   "id": "b93fcabc",
   "metadata": {},
   "source": [
    "9. Сделайте вывод о применимости модели."
   ]
  },
  {
   "cell_type": "markdown",
   "id": "0a5dfc30",
   "metadata": {},
   "source": [
    "Данная модель имеет хорошую общую достовреность, однако один из классов модель плохо определяет. Скорее всего это связано с тем что данных по данному классу *comp.os.ms-windows.misc* в обучающей выборке мало. "
   ]
  }
 ],
 "metadata": {
  "kernelspec": {
   "display_name": "Python 3 (ipykernel)",
   "language": "python",
   "name": "python3"
  },
  "language_info": {
   "codemirror_mode": {
    "name": "ipython",
    "version": 3
   },
   "file_extension": ".py",
   "mimetype": "text/x-python",
   "name": "python",
   "nbconvert_exporter": "python",
   "pygments_lexer": "ipython3",
   "version": "3.9.7"
  }
 },
 "nbformat": 4,
 "nbformat_minor": 5
}
