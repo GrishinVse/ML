{
 "cells": [
  {
   "cell_type": "code",
   "execution_count": 23,
   "id": "90b40bd6",
   "metadata": {},
   "outputs": [],
   "source": [
    "import pandas as pd\n",
    "import  numpy as np\n",
    "import matplotlib.pyplot as plt\n",
    "import seaborn as sns\n",
    "%matplotlib inline"
   ]
  },
  {
   "cell_type": "code",
   "execution_count": 24,
   "id": "528e3008",
   "metadata": {},
   "outputs": [],
   "source": [
    "def print_matrix(sec_value):\n",
    "    class_names = [0, 1]\n",
    "    fig, ax = plt.subplots()\n",
    "    ticks = np.arange(len(class_names))\n",
    "    plt.xticks(ticks, class_names)\n",
    "    plt.yticks(ticks, class_names)\n",
    "\n",
    "    sns.heatmap(pd.DataFrame(\n",
    "        metrics.confusion_matrix(y_test, sec_value)),\n",
    "        annot=True)\n",
    "    plt.ylabel('Действительные значения')\n",
    "    plt.xlabel('Предсказанные значения')"
   ]
  },
  {
   "cell_type": "code",
   "execution_count": 25,
   "id": "331165d8",
   "metadata": {},
   "outputs": [],
   "source": [
    "col_names = ['pregnant', 'glucose', 'bp', 'skin', \n",
    "             'insulin', 'bmi', 'pedigree', 'age', 'label']\n",
    "df_pima = pd.read_csv('pima-indians-diabetes.csv', header=None, names=col_names)"
   ]
  },
  {
   "cell_type": "code",
   "execution_count": 26,
   "id": "3ebcaabd",
   "metadata": {},
   "outputs": [
    {
     "data": {
      "text/html": [
       "<div>\n",
       "<style scoped>\n",
       "    .dataframe tbody tr th:only-of-type {\n",
       "        vertical-align: middle;\n",
       "    }\n",
       "\n",
       "    .dataframe tbody tr th {\n",
       "        vertical-align: top;\n",
       "    }\n",
       "\n",
       "    .dataframe thead th {\n",
       "        text-align: right;\n",
       "    }\n",
       "</style>\n",
       "<table border=\"1\" class=\"dataframe\">\n",
       "  <thead>\n",
       "    <tr style=\"text-align: right;\">\n",
       "      <th></th>\n",
       "      <th>pregnant</th>\n",
       "      <th>glucose</th>\n",
       "      <th>bp</th>\n",
       "      <th>skin</th>\n",
       "      <th>insulin</th>\n",
       "      <th>bmi</th>\n",
       "      <th>pedigree</th>\n",
       "      <th>age</th>\n",
       "      <th>label</th>\n",
       "    </tr>\n",
       "  </thead>\n",
       "  <tbody>\n",
       "    <tr>\n",
       "      <th>0</th>\n",
       "      <td>6</td>\n",
       "      <td>148</td>\n",
       "      <td>72</td>\n",
       "      <td>35</td>\n",
       "      <td>0</td>\n",
       "      <td>33.6</td>\n",
       "      <td>0.627</td>\n",
       "      <td>50</td>\n",
       "      <td>1</td>\n",
       "    </tr>\n",
       "    <tr>\n",
       "      <th>1</th>\n",
       "      <td>1</td>\n",
       "      <td>85</td>\n",
       "      <td>66</td>\n",
       "      <td>29</td>\n",
       "      <td>0</td>\n",
       "      <td>26.6</td>\n",
       "      <td>0.351</td>\n",
       "      <td>31</td>\n",
       "      <td>0</td>\n",
       "    </tr>\n",
       "    <tr>\n",
       "      <th>2</th>\n",
       "      <td>8</td>\n",
       "      <td>183</td>\n",
       "      <td>64</td>\n",
       "      <td>0</td>\n",
       "      <td>0</td>\n",
       "      <td>23.3</td>\n",
       "      <td>0.672</td>\n",
       "      <td>32</td>\n",
       "      <td>1</td>\n",
       "    </tr>\n",
       "    <tr>\n",
       "      <th>3</th>\n",
       "      <td>1</td>\n",
       "      <td>89</td>\n",
       "      <td>66</td>\n",
       "      <td>23</td>\n",
       "      <td>94</td>\n",
       "      <td>28.1</td>\n",
       "      <td>0.167</td>\n",
       "      <td>21</td>\n",
       "      <td>0</td>\n",
       "    </tr>\n",
       "    <tr>\n",
       "      <th>4</th>\n",
       "      <td>0</td>\n",
       "      <td>137</td>\n",
       "      <td>40</td>\n",
       "      <td>35</td>\n",
       "      <td>168</td>\n",
       "      <td>43.1</td>\n",
       "      <td>2.288</td>\n",
       "      <td>33</td>\n",
       "      <td>1</td>\n",
       "    </tr>\n",
       "  </tbody>\n",
       "</table>\n",
       "</div>"
      ],
      "text/plain": [
       "   pregnant  glucose  bp  skin  insulin   bmi  pedigree  age  label\n",
       "0         6      148  72    35        0  33.6     0.627   50      1\n",
       "1         1       85  66    29        0  26.6     0.351   31      0\n",
       "2         8      183  64     0        0  23.3     0.672   32      1\n",
       "3         1       89  66    23       94  28.1     0.167   21      0\n",
       "4         0      137  40    35      168  43.1     2.288   33      1"
      ]
     },
     "execution_count": 26,
     "metadata": {},
     "output_type": "execute_result"
    }
   ],
   "source": [
    "df_pima.head()"
   ]
  },
  {
   "cell_type": "code",
   "execution_count": 27,
   "id": "b62b0600",
   "metadata": {},
   "outputs": [],
   "source": [
    "Y = df_pima['label']\n",
    "X = df_pima.drop(['label'], axis=1)"
   ]
  },
  {
   "cell_type": "code",
   "execution_count": 28,
   "id": "6c1e0609",
   "metadata": {},
   "outputs": [],
   "source": [
    "from sklearn.model_selection import train_test_split\n",
    "x_train, x_test, y_train, y_test = train_test_split(X, Y, test_size=0.2, random_state=True)"
   ]
  },
  {
   "cell_type": "code",
   "execution_count": 29,
   "id": "b12a6a0b",
   "metadata": {},
   "outputs": [],
   "source": [
    "from sklearn.linear_model import LogisticRegression\n",
    "cls = LogisticRegression(solver='lbfgs', max_iter=1000)"
   ]
  },
  {
   "cell_type": "code",
   "execution_count": 30,
   "id": "a3c200fe",
   "metadata": {},
   "outputs": [
    {
     "data": {
      "text/plain": [
       "LogisticRegression(max_iter=1000)"
      ]
     },
     "execution_count": 30,
     "metadata": {},
     "output_type": "execute_result"
    }
   ],
   "source": [
    "cls.fit(x_train, y_train)"
   ]
  },
  {
   "cell_type": "code",
   "execution_count": 31,
   "id": "f37d56cb",
   "metadata": {},
   "outputs": [],
   "source": [
    "y_pred = cls.predict(x_test)"
   ]
  },
  {
   "cell_type": "code",
   "execution_count": 32,
   "id": "1e5715c4",
   "metadata": {},
   "outputs": [
    {
     "data": {
      "text/plain": [
       "array([[89, 10],\n",
       "       [24, 31]], dtype=int64)"
      ]
     },
     "execution_count": 32,
     "metadata": {},
     "output_type": "execute_result"
    }
   ],
   "source": [
    "from sklearn import metrics\n",
    "metrics.confusion_matrix(y_test, y_pred)"
   ]
  },
  {
   "cell_type": "code",
   "execution_count": 33,
   "id": "dc7f16d8",
   "metadata": {},
   "outputs": [
    {
     "data": {
      "image/png": "[encoded data removed]",
      "text/plain": [
       "<Figure size 432x288 with 2 Axes>"
      ]
     },
     "metadata": {
      "needs_background": "light"
     },
     "output_type": "display_data"
    }
   ],
   "source": [
    "print_matrix(y_pred)"
   ]
  },
  {
   "cell_type": "code",
   "execution_count": 34,
   "id": "15104d63",
   "metadata": {},
   "outputs": [
    {
     "name": "stdout",
     "output_type": "stream",
     "text": [
      "Метрика достоверности предсказания 0.7792207792207793\n"
     ]
    }
   ],
   "source": [
    "print('Метрика достоверности предсказания {}'.format(metrics.accuracy_score(y_test, y_pred)))"
   ]
  },
  {
   "cell_type": "code",
   "execution_count": 35,
   "id": "0ec55485",
   "metadata": {},
   "outputs": [
    {
     "name": "stdout",
     "output_type": "stream",
     "text": [
      "Метрика точности 0.7560975609756098\n"
     ]
    }
   ],
   "source": [
    "print('Метрика точности {}'.format(metrics.precision_score(y_test, y_pred)))"
   ]
  },
  {
   "cell_type": "code",
   "execution_count": 36,
   "id": "bb77a581",
   "metadata": {},
   "outputs": [
    {
     "name": "stdout",
     "output_type": "stream",
     "text": [
      "Метрика полноты 0.5636363636363636\n"
     ]
    }
   ],
   "source": [
    "print('Метрика полноты {}'.format(metrics.recall_score(y_test, y_pred)))"
   ]
  },
  {
   "cell_type": "code",
   "execution_count": 37,
   "id": "60fcbe9f",
   "metadata": {},
   "outputs": [
    {
     "data": {
      "image/png": "[encoded data removed]",
      "text/plain": [
       "<Figure size 720x576 with 1 Axes>"
      ]
     },
     "metadata": {
      "needs_background": "light"
     },
     "output_type": "display_data"
    }
   ],
   "source": [
    "list_x = [i for i in range(len(y_pred))]\n",
    "plt.figure(figsize=(10,8))\n",
    "plt.scatter(list_x, y_pred)\n",
    "plt.scatter(list_x, y_test)\n",
    "plt.show()"
   ]
  },
  {
   "cell_type": "markdown",
   "id": "3b1cb6f4",
   "metadata": {},
   "source": [
    "# Метод опорных векторов"
   ]
  },
  {
   "cell_type": "code",
   "execution_count": 38,
   "id": "140d82a3",
   "metadata": {},
   "outputs": [],
   "source": [
    "from sklearn import svm\n",
    "\n",
    "clf_lin = svm.SVC(kernel='linear') # метод опорных векторов с линейным ядром \n",
    "clf_gaus = svm.SVC(kernel='rbf') # метод опорных векторов с гауссовым ядром \n",
    "\n",
    "clf_lin.fit(x_train, y_train)\n",
    "clf_gaus.fit(x_train, y_train)\n",
    "\n",
    "y_pred_vec_lin = clf_lin.predict(x_test)\n",
    "y_pred_vec_gaus = clf_gaus.predict(x_test)"
   ]
  },
  {
   "cell_type": "markdown",
   "id": "d23ceaa1",
   "metadata": {},
   "source": [
    "## Линейное ядро"
   ]
  },
  {
   "cell_type": "code",
   "execution_count": 39,
   "id": "b361038d",
   "metadata": {},
   "outputs": [
    {
     "data": {
      "image/png": "[encoded data removed]",
      "text/plain": [
       "<Figure size 432x288 with 2 Axes>"
      ]
     },
     "metadata": {
      "needs_background": "light"
     },
     "output_type": "display_data"
    }
   ],
   "source": [
    "print_matrix(y_pred_vec_lin)"
   ]
  },
  {
   "cell_type": "markdown",
   "id": "2a741b00",
   "metadata": {},
   "source": [
    "## Гауссово ядро"
   ]
  },
  {
   "cell_type": "code",
   "execution_count": 40,
   "id": "3e9d643b",
   "metadata": {},
   "outputs": [
    {
     "data": {
      "image/png": "[encoded data removed]",
      "text/plain": [
       "<Figure size 432x288 with 2 Axes>"
      ]
     },
     "metadata": {
      "needs_background": "light"
     },
     "output_type": "display_data"
    }
   ],
   "source": [
    "print_matrix(y_pred_vec_gaus)"
   ]
  },
  {
   "cell_type": "markdown",
   "id": "0bb72d58",
   "metadata": {},
   "source": [
    "# Метод k ближайших соседей "
   ]
  },
  {
   "cell_type": "code",
   "execution_count": 41,
   "id": "f5f87542",
   "metadata": {},
   "outputs": [
    {
     "data": {
      "image/png": "[encoded data removed]",
      "text/plain": [
       "<Figure size 432x288 with 2 Axes>"
      ]
     },
     "metadata": {
      "needs_background": "light"
     },
     "output_type": "display_data"
    }
   ],
   "source": [
    "from sklearn.neighbors import KNeighborsClassifier\n",
    "import math\n",
    "\n",
    "neighbors_val = int(math.sqrt(X.shape[0]))\n",
    "\n",
    "neigh = KNeighborsClassifier(n_neighbors=neighbors_val)\n",
    "neigh.fit(x_train, y_train)\n",
    "\n",
    "y_pred_neigh = neigh.predict(x_test)\n",
    "print_matrix(y_pred_neigh)"
   ]
  },
  {
   "cell_type": "markdown",
   "id": "773c2155",
   "metadata": {},
   "source": [
    "# Многослойный перцептрон"
   ]
  },
  {
   "cell_type": "code",
   "execution_count": 42,
   "id": "15539c8f",
   "metadata": {},
   "outputs": [
    {
     "data": {
      "image/png": "[encoded data removed]",
      "text/plain": [
       "<Figure size 432x288 with 2 Axes>"
      ]
     },
     "metadata": {
      "needs_background": "light"
     },
     "output_type": "display_data"
    }
   ],
   "source": [
    "from sklearn.neural_network import MLPClassifier\n",
    "\n",
    "mlp = MLPClassifier(random_state=42, max_iter=3000)\n",
    "mlp.fit(x_train, y_train)\n",
    "\n",
    "y_pred_mlp = mlp.predict(x_test)\n",
    "print_matrix(y_pred_mlp)"
   ]
  },
  {
   "cell_type": "markdown",
   "id": "197f1eff",
   "metadata": {},
   "source": [
    "# Кривые обучения"
   ]
  },
  {
   "cell_type": "code",
   "execution_count": 43,
   "id": "9c8cba4d",
   "metadata": {},
   "outputs": [],
   "source": [
    "from sklearn.model_selection import learning_curve\n",
    "import numpy as np\n",
    "\n",
    "train_sizes = np.linspace(0.1, 1, 20)"
   ]
  },
  {
   "cell_type": "code",
   "execution_count": 44,
   "id": "7d3bcbcb",
   "metadata": {},
   "outputs": [],
   "source": [
    "def print_learning_curve(model, x_train, y_train, train_sizes):\n",
    "    _, train_scores, test_scores = learning_curve(model, x_train, y_train, train_sizes=train_sizes, cv=3)\n",
    "    print(np.mean(test_scores,axis=1))\n",
    "    \n",
    "    plt.figure('Learning Curve')\n",
    "    plt.title('Learning Curve')\n",
    "    plt.xlabel('train size')\n",
    "    plt.ylabel('F1 score')\n",
    "    plt.plot(train_sizes, np.mean(test_scores, axis=1), label='Learning Curve', color='red')\n",
    "    plt.legend()\n",
    "    plt.show()"
   ]
  },
  {
   "cell_type": "code",
   "execution_count": 45,
   "id": "8a104169",
   "metadata": {},
   "outputs": [
    {
     "name": "stdout",
     "output_type": "stream",
     "text": [
      "[0.74108082 0.75897497 0.74759286 0.75243105 0.74101706 0.72961103\n",
      " 0.74752909 0.74426112 0.76217121 0.75728519 0.76054519 0.7556512\n",
      " 0.76056114 0.76056114 0.75891918 0.76056114 0.76055316 0.75892715\n",
      " 0.76053722 0.7638052 ]\n"
     ]
    },
    {
     "data": {
      "image/png": "[encoded data removed]",
      "text/plain": [
       "<Figure size 432x288 with 1 Axes>"
      ]
     },
     "metadata": {
      "needs_background": "light"
     },
     "output_type": "display_data"
    }
   ],
   "source": [
    "print_learning_curve(cls, x_train, y_train, train_sizes)"
   ]
  },
  {
   "cell_type": "code",
   "execution_count": 46,
   "id": "25129451",
   "metadata": {},
   "outputs": [
    {
     "name": "stdout",
     "output_type": "stream",
     "text": [
      "[0.7492109  0.74594293 0.74105691 0.73291089 0.72473298 0.72632712\n",
      " 0.72958712 0.74914714 0.75891918 0.76053722 0.76052925 0.75402519\n",
      " 0.75077315 0.75239917 0.75075721 0.76217121 0.76054519 0.76870716\n",
      " 0.76382114 0.76544715]\n"
     ]
    },
    {
     "data": {
      "image/png": "[encoded data removed]",
      "text/plain": [
       "<Figure size 432x288 with 1 Axes>"
      ]
     },
     "metadata": {
      "needs_background": "light"
     },
     "output_type": "display_data"
    }
   ],
   "source": [
    "print_learning_curve(clf_lin, x_train, y_train, train_sizes)"
   ]
  },
  {
   "cell_type": "code",
   "execution_count": 47,
   "id": "b2d3d0de",
   "metadata": {},
   "outputs": [
    {
     "name": "stdout",
     "output_type": "stream",
     "text": [
      "[0.70035071 0.72475689 0.72145704 0.72634306 0.7393751  0.72961103\n",
      " 0.72962697 0.72309103 0.72797704 0.72800893 0.71823689 0.73125299\n",
      " 0.70841703 0.72146501 0.72963494 0.72636697 0.72638291 0.73125299\n",
      " 0.7280169  0.73452893]\n"
     ]
    },
    {
     "data": {
      "image/png": "[encoded data removed]",
      "text/plain": [
       "<Figure size 432x288 with 1 Axes>"
      ]
     },
     "metadata": {
      "needs_background": "light"
     },
     "output_type": "display_data"
    }
   ],
   "source": [
    "print_learning_curve(clf_gaus, x_train, y_train, train_sizes)"
   ]
  },
  {
   "cell_type": "code",
   "execution_count": 48,
   "id": "b1877f45",
   "metadata": {},
   "outputs": [
    {
     "name": "stdout",
     "output_type": "stream",
     "text": [
      "[0.65309262 0.65309262 0.71493703 0.71824486 0.70195281 0.7068468\n",
      " 0.70031086 0.69868484 0.71171688 0.70519688 0.68892077 0.69216483\n",
      " 0.68728678 0.69543281 0.69866093 0.69869281 0.71172485 0.72150486\n",
      " 0.71171688 0.72474095]\n"
     ]
    },
    {
     "data": {
      "image/png": "[encoded data removed]",
      "text/plain": [
       "<Figure size 432x288 with 1 Axes>"
      ]
     },
     "metadata": {
      "needs_background": "light"
     },
     "output_type": "display_data"
    }
   ],
   "source": [
    "print_learning_curve(neigh, x_train, y_train, train_sizes)"
   ]
  },
  {
   "cell_type": "code",
   "execution_count": 49,
   "id": "bf097861",
   "metadata": {},
   "outputs": [
    {
     "name": "stdout",
     "output_type": "stream",
     "text": [
      "[0.64667623 0.62873426 0.65641639 0.61569425 0.6498645  0.66290451\n",
      " 0.67270046 0.6711143  0.66291248 0.64823051 0.6466045  0.67266061\n",
      " 0.67913279 0.69053882 0.67101068 0.68239279 0.69218875 0.70029491\n",
      " 0.71498486 0.65640842]\n"
     ]
    },
    {
     "data": {
      "image/png": "[encoded data removed]",
      "text/plain": [
       "<Figure size 432x288 with 1 Axes>"
      ]
     },
     "metadata": {
      "needs_background": "light"
     },
     "output_type": "display_data"
    }
   ],
   "source": [
    "print_learning_curve(mlp, x_train, y_train, train_sizes)"
   ]
  },
  {
   "cell_type": "markdown",
   "id": "61009e14",
   "metadata": {},
   "source": [
    "# Анализ для другой задачи - распознавание вида ириса по параметрам растения"
   ]
  },
  {
   "cell_type": "code",
   "execution_count": 81,
   "id": "b59da512",
   "metadata": {},
   "outputs": [],
   "source": [
    "from sklearn.datasets import load_iris\n",
    "\n",
    "iris = load_iris()\n",
    "iris_df = pd.DataFrame(data= np.c_[iris['data'], iris['target']],\n",
    "                     columns= iris['feature_names'] + ['target'])"
   ]
  },
  {
   "cell_type": "code",
   "execution_count": 83,
   "id": "ac5e4a90",
   "metadata": {},
   "outputs": [
    {
     "data": {
      "text/html": [
       "<div>\n",
       "<style scoped>\n",
       "    .dataframe tbody tr th:only-of-type {\n",
       "        vertical-align: middle;\n",
       "    }\n",
       "\n",
       "    .dataframe tbody tr th {\n",
       "        vertical-align: top;\n",
       "    }\n",
       "\n",
       "    .dataframe thead th {\n",
       "        text-align: right;\n",
       "    }\n",
       "</style>\n",
       "<table border=\"1\" class=\"dataframe\">\n",
       "  <thead>\n",
       "    <tr style=\"text-align: right;\">\n",
       "      <th></th>\n",
       "      <th>sepal length (cm)</th>\n",
       "      <th>sepal width (cm)</th>\n",
       "      <th>petal length (cm)</th>\n",
       "      <th>petal width (cm)</th>\n",
       "      <th>target</th>\n",
       "    </tr>\n",
       "  </thead>\n",
       "  <tbody>\n",
       "    <tr>\n",
       "      <th>0</th>\n",
       "      <td>5.1</td>\n",
       "      <td>3.5</td>\n",
       "      <td>1.4</td>\n",
       "      <td>0.2</td>\n",
       "      <td>0.0</td>\n",
       "    </tr>\n",
       "    <tr>\n",
       "      <th>1</th>\n",
       "      <td>4.9</td>\n",
       "      <td>3.0</td>\n",
       "      <td>1.4</td>\n",
       "      <td>0.2</td>\n",
       "      <td>0.0</td>\n",
       "    </tr>\n",
       "    <tr>\n",
       "      <th>2</th>\n",
       "      <td>4.7</td>\n",
       "      <td>3.2</td>\n",
       "      <td>1.3</td>\n",
       "      <td>0.2</td>\n",
       "      <td>0.0</td>\n",
       "    </tr>\n",
       "    <tr>\n",
       "      <th>3</th>\n",
       "      <td>4.6</td>\n",
       "      <td>3.1</td>\n",
       "      <td>1.5</td>\n",
       "      <td>0.2</td>\n",
       "      <td>0.0</td>\n",
       "    </tr>\n",
       "    <tr>\n",
       "      <th>4</th>\n",
       "      <td>5.0</td>\n",
       "      <td>3.6</td>\n",
       "      <td>1.4</td>\n",
       "      <td>0.2</td>\n",
       "      <td>0.0</td>\n",
       "    </tr>\n",
       "  </tbody>\n",
       "</table>\n",
       "</div>"
      ],
      "text/plain": [
       "   sepal length (cm)  sepal width (cm)  petal length (cm)  petal width (cm)  \\\n",
       "0                5.1               3.5                1.4               0.2   \n",
       "1                4.9               3.0                1.4               0.2   \n",
       "2                4.7               3.2                1.3               0.2   \n",
       "3                4.6               3.1                1.5               0.2   \n",
       "4                5.0               3.6                1.4               0.2   \n",
       "\n",
       "   target  \n",
       "0     0.0  \n",
       "1     0.0  \n",
       "2     0.0  \n",
       "3     0.0  \n",
       "4     0.0  "
      ]
     },
     "execution_count": 83,
     "metadata": {},
     "output_type": "execute_result"
    }
   ],
   "source": [
    "iris_df.head()"
   ]
  },
  {
   "cell_type": "code",
   "execution_count": 84,
   "id": "4a8449d7",
   "metadata": {},
   "outputs": [],
   "source": [
    "iris_Y = iris_df['target']\n",
    "iris_X = iris_df.drop(['target'], axis=1)"
   ]
  },
  {
   "cell_type": "markdown",
   "id": "22e180d7",
   "metadata": {},
   "source": [
    "# Анализ всех метрик для всех моделей"
   ]
  },
  {
   "cell_type": "code",
   "execution_count": 73,
   "id": "d683e0b7",
   "metadata": {},
   "outputs": [
    {
     "name": "stdout",
     "output_type": "stream",
     "text": [
      "              Метрика достоверности предсказания |   Метрика точности   |   Метрика полноты\n",
      "\n",
      "            Лог регрессия |  0.7792207792207793  |  0.7560975609756098  |  0.5636363636363636 \n",
      "  Опорный Вектор Лин ядро |  0.7792207792207793  |  0.7560975609756098  |  0.5636363636363636 \n",
      " Опорный Вектор Гаус ядро |  0.7857142857142857  |  0.8235294117647058  |  0.509090909090909  \n",
      "Метод k ближайших соседей |  0.7532467532467533  |  0.717948717948718   |  0.509090909090909  \n",
      "  Многослойный перцептрон |  0.6818181818181818  |  0.5535714285714286  |  0.5636363636363636 \n",
      "\n"
     ]
    }
   ],
   "source": [
    "print('''              Метрика достоверности предсказания |   Метрика точности   |   Метрика полноты\\n\n",
    "            Лог регрессия | {:^20} | {:^20} | {:^20}\n",
    "  Опорный Вектор Лин ядро | {:^20} | {:^20} | {:^20}\n",
    " Опорный Вектор Гаус ядро | {:^20} | {:^20} | {:^20}\n",
    "Метод k ближайших соседей | {:^20} | {:^20} | {:^20}\n",
    "  Многослойный перцептрон | {:^20} | {:^20} | {:^20}\n",
    "'''.format(metrics.accuracy_score(y_test, y_pred), metrics.precision_score(y_test, y_pred), metrics.recall_score(y_test, y_pred),\n",
    "           metrics.accuracy_score(y_test, y_pred_vec_lin), metrics.precision_score(y_test, y_pred_vec_lin), metrics.recall_score(y_test, y_pred_vec_lin),\n",
    "           metrics.accuracy_score(y_test, y_pred_vec_gaus), metrics.precision_score(y_test, y_pred_vec_gaus), metrics.recall_score(y_test, y_pred_vec_gaus),\n",
    "           metrics.accuracy_score(y_test, y_pred_neigh), metrics.precision_score(y_test, y_pred_neigh), metrics.recall_score(y_test, y_pred_neigh),\n",
    "           metrics.accuracy_score(y_test, y_pred_mlp),metrics.precision_score(y_test, y_pred_mlp), metrics.recall_score(y_test, y_pred_mlp)))"
   ]
  },
  {
   "cell_type": "markdown",
   "id": "58f4efcc",
   "metadata": {},
   "source": [
    "# Контрольные вопросы\n",
    "\n"
   ]
  },
  {
   "cell_type": "markdown",
   "id": "3e7348c6",
   "metadata": {},
   "source": [
    "1.\tКакие выводы мы можем сделать на основании метрик модели, построенной в данной лабораторной работе?"
   ]
  },
  {
   "cell_type": "raw",
   "id": "8bd6fd48",
   "metadata": {},
   "source": [
    "Наиболее предпочтительной моделью для использования в данной задачи является метод опорных векторов с Гауссовыми ядрами."
   ]
  },
  {
   "cell_type": "markdown",
   "id": "aa614e97",
   "metadata": {},
   "source": [
    "2.\tЧем логистическая регрессия отличается от линейной?"
   ]
  },
  {
   "cell_type": "raw",
   "id": "4e059211",
   "metadata": {},
   "source": [
    "В отличие от обычной регрессии, в методе логистической регрессии не производится предсказание значения числовой переменной исходя из выборки исходных значений. Вместо этого, значением функции является вероятность того, что данное исходное значение принадлежит к определенному классу."
   ]
  },
  {
   "cell_type": "markdown",
   "id": "36895f6d",
   "metadata": {},
   "source": [
    "3.\tС помощью каких методов происходит оптимизация параметров логистической регрессии?\n"
   ]
  },
  {
   "cell_type": "raw",
   "id": "c3677c61",
   "metadata": {},
   "source": [
    "Метод градиентного спуска\n",
    "L1 регуляризация"
   ]
  },
  {
   "cell_type": "markdown",
   "id": "20cc42ef",
   "metadata": {},
   "source": [
    "4.\tПочему метрики достоверности предсказания недостаточно для оценки эффективности модели?\n"
   ]
  },
  {
   "cell_type": "raw",
   "id": "e73f7a14",
   "metadata": {},
   "source": [
    "Эта метрика бесполезна в задачах с неравными классами. Для оценки качества работы алгоритма на каждом из классов по отдельности нужно вводить метрики precision (точность) и recall (полнота).\n",
    "precision - доля объектов, названных классификатором положительными и при этом действительно являющимися положительными\n",
    "\n",
    "recall показывает, какую долю объектов положительного класса из всех объектов положительного класса нашел алгоритм"
   ]
  },
  {
   "cell_type": "markdown",
   "id": "4c988672",
   "metadata": {},
   "source": [
    "5.\tЧто такое метрика F1? Какие еще метрики из этого семейства существуют и для чего они служат?\n"
   ]
  },
  {
   "cell_type": "raw",
   "id": "5c963d8f",
   "metadata": {},
   "source": [
    "F1 Score - Классификация ошибки метрики как и любая другая ошибка, метрика помогает нам оценить производительность алгоритма. Это помогает нам оценить производительность модели обучения машины с точки зрения бинарной классификации"
   ]
  },
  {
   "cell_type": "markdown",
   "id": "9cc5f556",
   "metadata": {},
   "source": [
    "6.\tЧем метод опорных векторов отличается от логистической регрессии? В чем его достоинства и недостатки?\n"
   ]
  },
  {
   "cell_type": "raw",
   "id": "b4cc6952",
   "metadata": {},
   "source": [
    "Принцип работы опорных векторов заключается в том, что они устанавливают границы между точками данных, где большинство из одного класса падает на одну сторону границы и большинство из другого класса падает на другую сторону границы.\n",
    "+++\n",
    "Хорошо подходит дла задач с небольшим количеством данных\n",
    "Разделяющий вертор максимизируется, что позволяет уменьшить количество ошибок классификации\n",
    "---\n",
    "Долгое время обучения (для больших наборов данных)\n",
    "Чувствителен к выбросам данных\n",
    "Не описаны общие методы построения ядер и спрямляющих пространств"
   ]
  },
  {
   "cell_type": "markdown",
   "id": "da290546",
   "metadata": {},
   "source": [
    "7.\tВ чем особенности метода ближайших соседей?"
   ]
  },
  {
   "cell_type": "raw",
   "id": "42562a26",
   "metadata": {},
   "source": [
    "Данный метод может быть использована для классификации или для регрессии. Классификация в данном методе реализована так: Объект присваивается тому классу, который является наиболее распространённым среди k соседей данного элемента."
   ]
  }
 ],
 "metadata": {
  "kernelspec": {
   "display_name": "Python 3 (ipykernel)",
   "language": "python",
   "name": "python3"
  },
  "language_info": {
   "codemirror_mode": {
    "name": "ipython",
    "version": 3
   },
   "file_extension": ".py",
   "mimetype": "text/x-python",
   "name": "python",
   "nbconvert_exporter": "python",
   "pygments_lexer": "ipython3",
   "version": "3.9.7"
  }
 },
 "nbformat": 4,
 "nbformat_minor": 5
}
